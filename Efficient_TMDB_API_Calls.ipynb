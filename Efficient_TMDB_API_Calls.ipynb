{
 "cells": [
  {
   "cell_type": "markdown",
   "id": "20186792-17f2-43ab-8e32-7fe316abb9d8",
   "metadata": {},
   "source": [
    "# Efficient TMDB API Calls"
   ]
  },
  {
   "cell_type": "markdown",
   "id": "7a4f8277-10fa-4495-8de8-5db0cf3fbdfa",
   "metadata": {},
   "source": [
    "- We already have our function for combining certifications from TMDB with info from IMDB.\n",
    "- This lesson will help prepare for applying the function for the assigned project."
   ]
  },
  {
   "cell_type": "markdown",
   "id": "753ad173-9639-46c0-9d3a-28d04d678dae",
   "metadata": {},
   "source": [
    "### Planning"
   ]
  },
  {
   "cell_type": "markdown",
   "id": "12afae7c-d4d4-45d1-a60f-af5e4413c802",
   "metadata": {},
   "source": [
    "Before starting up coding, articulate in plain language what our goals are. Although we have covered pieces of code for different tasks, we must lay our what we want to do, in what order, and what it will accomplish. We will make use for different loops to accomplish our goals in this project (an INNER and OUTER loop).\n",
    "\n",
    "Our goal is to:\n",
    "- Determine where to save our results and in what file format.\n",
    "- Decide what subset of movies to retrieve (based on Years).\n",
    "- Develop code to make API calls based on our existing IMDB ID's with the INNER loop.\n",
    "- Organize output by year into separate .json files using an OUTER loop.\n",
    "\n",
    "Let's consider what the process looks like:\n",
    "- The OUTER loop will loop through the start years included in the IMDB data, filter the *title* and *basics* data for the selected year.\n",
    "- The INNER loop will loop through every movie id from the selected year, extract it's results from the TMDB API, and append them to a .json file."
   ]
  },
  {
   "cell_type": "markdown",
   "id": "93d29663-70bf-49f0-9d64-8d6721342801",
   "metadata": {},
   "source": [
    "### BEFORE either loop:"
   ]
  },
  {
   "cell_type": "markdown",
   "id": "b23c8d66-9b54-4f45-b3ac-22e0060601f8",
   "metadata": {},
   "source": [
    "- Designate a folder to save your information\n",
    "- Load the title basics csv with the movie data and IMDB movie ID's (the 'tconst' column)\n",
    "- Define and test any custom functions you will use\n",
    "- Create a list of the years to be retrieved from the starting data"
   ]
  },
  {
   "cell_type": "markdown",
   "id": "8029a93f-7eb0-4cba-8054-07bb9d2beb66",
   "metadata": {},
   "source": [
    "### The OUTER loop:"
   ]
  },
  {
   "cell_type": "markdown",
   "id": "d3b0ad56-8705-43ca-ac42-98967d79f98a",
   "metadata": {},
   "source": [
    "- Create an OUTER loop to loop through each year in your list of years, using a progress bar from tqdm_notebook\n",
    "- Define a json filename that includes the year in the filename. This is where the in-progress results will be saved.\n",
    "\n",
    "Since this workflow is designed to avoid repeating API calls, we design our code with the assumption we already have a file with some of the results from a prior session.\n",
    "\n",
    "- Therefore, we will check if the JSON file for the year exists, and:\n",
    "    - If it does NOT, we will create an empty JSON file with a placeholder dictionary, using 'with open'\n",
    "        - Fill the new JSON file with a dictionary with the single key 'imdb_id' and a placeholder value of zero (i.e., {'imdb_id':0} )\n",
    "    - If it DOES exist, we will print a message that the file already exists.\n",
    "\n",
    "Now that the JSON file for results-in-progress exists:\n",
    "- Filter the IMDB title basics data for the selected year and save the movie IDs from that year as 'movies_ids'\n",
    "- Check the JSON file for previously downloaded movie ID's and filter out the movie id's that already exist in the JSON file (to prevent duplicate API calls) by:\n",
    "    - Loading in the contents of the JSON file with pd.read_json\n",
    "        - Compare the movie_ids that were in the JSON file to your saved movie_ids_to_get\n",
    "        - Save the final list of 'movie_ids_to_get' by filtering out movies that already exist in the JSON file\n",
    "\n",
    "Now that we have a list of movie_ids_to_get for the selected year, we can move to the inner loop."
   ]
  },
  {
   "cell_type": "markdown",
   "id": "5acff5fe-b9bd-4978-bca8-6fef266c69cc",
   "metadata": {},
   "source": [
    "### The INNER looop:"
   ]
  },
  {
   "cell_type": "markdown",
   "id": "f740da1e-1e39-4747-9052-eaa77cd8513f",
   "metadata": {},
   "source": [
    "- Create an INNER loop to make API calls for each id in the movie_ids_to_get specified in the outer loop.\n",
    "- For each movie id:\n",
    "    - Extract the current ID from API and extract the results dictionary using a custom function (the function created in the prior lesson)\n",
    "    - Append the new results to the list from the JSON file\n",
    "    - Save the updated JSON file back to the disk"
   ]
  },
  {
   "cell_type": "markdown",
   "id": "8d4dcec4-29f0-431a-ac23-e149b49eaaca",
   "metadata": {},
   "source": [
    "### At the end of the INNER loop\n",
    "- After the inner loop, shift+tab the next line of code to the left, so that it is outside of the inner loop but still within the outer loop.\n",
    "- Load the JSON_FILE one last time into a DataFrame with pd.read_json, and then save the final results for the year as a csv.gz file that includes the year in the filename\n",
    "\n",
    "Then, the outer loop repeats for the remaining years."
   ]
  },
  {
   "cell_type": "markdown",
   "id": "2431ca7e-3a5c-4897-ba8c-5cdf8e27406d",
   "metadata": {},
   "source": [
    "# Summary"
   ]
  },
  {
   "cell_type": "markdown",
   "id": "e2542fe6-390d-4063-85ac-08123492da57",
   "metadata": {},
   "source": [
    "- This lesson exemplifies the importance of planning complex coding tasks so that they are clear in what they are trying to accomplish in plain language *before* translating it to code.\n",
    "- The following practice assignment will show examples of code that may be useful in the next phase of the Project assignment."
   ]
  }
 ],
 "metadata": {
  "kernelspec": {
   "display_name": "Python 3 (ipykernel)",
   "language": "python",
   "name": "python3"
  },
  "language_info": {
   "codemirror_mode": {
    "name": "ipython",
    "version": 3
   },
   "file_extension": ".py",
   "mimetype": "text/x-python",
   "name": "python",
   "nbconvert_exporter": "python",
   "pygments_lexer": "ipython3",
   "version": "3.10.10"
  },
  "widgets": {
   "application/vnd.jupyter.widget-state+json": {
    "state": {},
    "version_major": 2,
    "version_minor": 0
   }
  }
 },
 "nbformat": 4,
 "nbformat_minor": 5
}
