{
 "cells": [
  {
   "cell_type": "markdown",
   "id": "7463b3fb-fbba-4764-9a9d-36ffc5be2783",
   "metadata": {},
   "source": [
    "# TMDB API - Practice\n",
    "\n",
    "**Project Planning**\n",
    "- The goal is to extract financial and certification data from TMDB's API and the prior IMDB dataset.\n",
    "- We will make use of an INNER and OUTER loop\n",
    "\n",
    "The OUTER loop will loop through the start years included in the IMDB data, filter the title basics data for the selected year, and save the list of movie ID's from that year to retrieve in the inner loop.\n",
    "\n",
    "The INNER loop will loop through every movie id from the select year, extract it's results from the TMDB API, and append them to a JSON file."
   ]
  },
  {
   "cell_type": "markdown",
   "id": "06074423-37ee-4e08-bf96-986b08e11e85",
   "metadata": {},
   "source": [
    "**For this practice assignment**\n",
    "\n",
    "- We will be practicing the inner loop of API calls for a single year's movie list from our IMDB *title basics* data. Specifically we will extract API results for every movie with startYear=2010.\n",
    "    - Read the instructions below, including examples in the 'Getting Started' section, before starting to work."
   ]
  },
  {
   "cell_type": "markdown",
   "id": "acd0b9d0-32b9-4e6f-b1c2-4f1a2c997d4b",
   "metadata": {
    "jp-MarkdownHeadingCollapsed": true
   },
   "source": [
    "# Planning "
   ]
  },
  {
   "cell_type": "markdown",
   "id": "f7e7773d-534c-435f-9367-26c381aa8cca",
   "metadata": {},
   "source": [
    "### Preparation BEFORE the loop"
   ]
  },
  {
   "cell_type": "markdown",
   "id": "7956451d-cd06-4342-bf98-44f0f64a892f",
   "metadata": {},
   "source": [
    "- Designate a folder to save the information\n",
    "- Define custom functions to use for API calls\n",
    "- Load cleaned *title basics* data from Part 1 of Project 2\n",
    "- Define the year we will retrieve (2010) and create an empty list for appending error messages"
   ]
  },
  {
   "cell_type": "markdown",
   "id": "0d41f6db-466f-4a06-bd28-84e517a43d22",
   "metadata": {},
   "source": [
    "### Prepare the DataFrame and JSON file"
   ]
  },
  {
   "cell_type": "markdown",
   "id": "e19c18ce-6276-4850-a636-74a78e5b11cf",
   "metadata": {},
   "source": [
    "- Use the selected year to define filenames and filter the data\n",
    "    - Define a JSON_FILE filename to save the results in progress\n",
    "    - Check if the file exists\n",
    "        - If file does NOT exist, create the empty json file using 'with open' that only contains the key 'imdb_id'\n",
    "        - If the file DOES exist, print a message saying so.\n",
    "\n",
    "Once the json file for results exists:\n",
    "- Filter the IMDB *title basics* data for the selected year (2010) and save the movie ID's from that year as 'movies_ids'\n",
    "- Check the JSON file for previously downloaded movie ID's and filter out movie ID's that already exist in the json file to prevent duplicate API calls by:\n",
    "    - Loading in the contents of the JSON file with pd.read_json\n",
    "        - Compare the movie_ids that were in the json file to the saved movie_ids_to_get\n",
    "    - Save the final list of 'movie_ids_to_get' by filtering out movies taht already exist in the json file"
   ]
  },
  {
   "cell_type": "markdown",
   "id": "1b80298c-eeec-4fbc-bd00-9b0374db683b",
   "metadata": {},
   "source": [
    "### Perform the loop of API calls"
   ]
  },
  {
   "cell_type": "markdown",
   "id": "5e49a438-d0d7-45f2-ae6e-c87efe2e77dd",
   "metadata": {},
   "source": [
    "- Use the previously written function to combine the certification with the rest of the .info() from the TMDB API result\n",
    "- Create a loop to make API calls for each id in the year specified (2010). Include a progress bar using tqdm_notebook.\n",
    "- For each movie id:\n",
    "  - Extract the current ID from the API and retrieve the dict of results\n",
    "  - Append the new results to the list from the json file\n",
    "  - Save the updated json file back to the disk"
   ]
  },
  {
   "cell_type": "markdown",
   "id": "c0945126-ce45-4695-8cea-fd361e6a0660",
   "metadata": {},
   "source": [
    "### Save the results to a compressed .csv"
   ]
  },
  {
   "cell_type": "markdown",
   "id": "033cddaf-2151-41d9-8c69-807170244c0d",
   "metadata": {},
   "source": [
    "- After the loop, save the final result for the select year (2010) as a .csv.gz file with the year in the filename.\n",
    "- Note: at this point we have completed the inner loop that we will need for the next part of our project."
   ]
  },
  {
   "cell_type": "markdown",
   "id": "9affc1a4-821a-4012-8a98-19397d70a506",
   "metadata": {},
   "source": [
    "# Execution phase"
   ]
  },
  {
   "cell_type": "markdown",
   "id": "d933ec75-1a6f-4d5e-9042-12146fc5eb49",
   "metadata": {},
   "source": [
    "## Imports and loading\n"
   ]
  },
  {
   "cell_type": "markdown",
   "id": "ea0fc11b-72c4-46e8-a1de-7aba48b37aa1",
   "metadata": {},
   "source": [
    "**Designate a folder**"
   ]
  },
  {
   "cell_type": "code",
   "execution_count": 1,
   "id": "541e1583-bc8b-416c-b5d3-0288f252d6fd",
   "metadata": {},
   "outputs": [
    {
     "data": {
      "text/plain": [
       "['.ipynb_checkpoints', 'movie_basics.csv', 'movie_ratings.csv', 'untitled.txt']"
      ]
     },
     "execution_count": 1,
     "metadata": {},
     "output_type": "execute_result"
    }
   ],
   "source": [
    "# Import packages\n",
    "import os, time, json\n",
    "import tmdbsimple as tmdb \n",
    "import pandas as pd\n",
    "from tqdm.notebook import tqdm_notebook\n",
    "# Create the folder for saving files (if it doesn't exist)\n",
    "FOLDER = \"Data/\"\n",
    "os.makedirs(FOLDER, exist_ok=True)\n",
    "os.listdir(FOLDER)"
   ]
  },
  {
   "cell_type": "markdown",
   "id": "2e126e5d-80b7-44ef-95af-43b6eb5e682d",
   "metadata": {},
   "source": [
    "**API Credentials**\n"
   ]
  },
  {
   "cell_type": "code",
   "execution_count": 6,
   "id": "d8e261d5-99da-4f68-aa94-b632bb26f6ba",
   "metadata": {},
   "outputs": [
    {
     "data": {
      "text/plain": [
       "dict_keys(['api-key'])"
      ]
     },
     "execution_count": 6,
     "metadata": {},
     "output_type": "execute_result"
    }
   ],
   "source": [
    "with open('/Users/Malue/.secret/tmdb_api.json', 'r') as f:\n",
    "    login = json.load(f)\n",
    "# Display the keys of the loaded dict\n",
    "login.keys()"
   ]
  },
  {
   "cell_type": "code",
   "execution_count": 7,
   "id": "23e39aaf-c391-4c5d-84af-456c510ff8b9",
   "metadata": {},
   "outputs": [],
   "source": [
    "tmdb.API_KEY = login['api-key']"
   ]
  },
  {
   "cell_type": "markdown",
   "id": "c7dfd3fe-ff89-435e-b2c5-c431845d9303",
   "metadata": {},
   "source": [
    "**Define functions**"
   ]
  },
  {
   "cell_type": "code",
   "execution_count": 2,
   "id": "20d682ac-b12e-49e4-b6fb-37af2ac10c02",
   "metadata": {},
   "outputs": [],
   "source": [
    "def get_movie_with_rating(movie_id):\n",
    "    \"\"\"Adapted from source = https://github.com/celiao/tmdbsimple\"\"\"\n",
    "    # Get the movie object for the current id\n",
    "    movie = tmdb.Movies(movie_id)\n",
    "\n",
    "    # Save the .info and .releases dictionaries\n",
    "    info = movie.info()\n",
    "    releases = movie.releases()\n",
    "\n",
    "    # Loop through countries in releases\n",
    "    for c in releases['countries']:\n",
    "        # If the country abbreviation==US\n",
    "        if c['iso_3166_1']=='US':\n",
    "            # Save a 'certification' key in info with the fetched certification\n",
    "            info['certification'] = c['certification']\n",
    "\n",
    "    return info"
   ]
  },
  {
   "cell_type": "code",
   "execution_count": 3,
   "id": "8ba2b582-6ac8-419c-80f7-c236ec92d137",
   "metadata": {},
   "outputs": [],
   "source": [
    "def write_json(new_data, filename): \n",
    "    \"\"\"Appends a list of records (new_data) to a json file (filename). \n",
    "    Adapted from: https://www.geeksforgeeks.org/append-to-json-file-using-python/\"\"\"  \n",
    "    \n",
    "    with open(filename,'r+') as file:\n",
    "        # First we load existing data into a dict.\n",
    "        file_data = json.load(file)\n",
    "        ## Choose extend or append\n",
    "        if (type(new_data) == list) & (type(file_data) == list):\n",
    "            file_data.extend(new_data)\n",
    "        else:\n",
    "             file_data.append(new_data)\n",
    "        # Sets file's current position at offset.\n",
    "        file.seek(0)\n",
    "        # convert back to json.\n",
    "        json.dump(file_data, file)"
   ]
  },
  {
   "cell_type": "markdown",
   "id": "39abab60-20e8-47e6-b618-3cfd5ec4901a",
   "metadata": {},
   "source": [
    "**Test that API function works**"
   ]
  },
  {
   "cell_type": "code",
   "execution_count": 8,
   "id": "3f6051cc-4131-48ca-bdeb-e1e2ed8a17cf",
   "metadata": {},
   "outputs": [
    {
     "data": {
      "text/plain": [
       "{'adult': False,\n",
       " 'backdrop_path': '/9BBTo63ANSmhC4e6r62OJFuK2GL.jpg',\n",
       " 'belongs_to_collection': {'id': 86311,\n",
       "  'name': 'The Avengers Collection',\n",
       "  'poster_path': '/yFSIUVTCvgYrpalUktulvk3Gi5Y.jpg',\n",
       "  'backdrop_path': '/zuW6fOiusv4X9nnW3paHGfXcSll.jpg'},\n",
       " 'budget': 220000000,\n",
       " 'genres': [{'id': 878, 'name': 'Science Fiction'},\n",
       "  {'id': 28, 'name': 'Action'},\n",
       "  {'id': 12, 'name': 'Adventure'}],\n",
       " 'homepage': 'https://www.marvel.com/movies/the-avengers',\n",
       " 'id': 24428,\n",
       " 'imdb_id': 'tt0848228',\n",
       " 'original_language': 'en',\n",
       " 'original_title': 'The Avengers',\n",
       " 'overview': 'When an unexpected enemy emerges and threatens global safety and security, Nick Fury, director of the international peacekeeping agency known as S.H.I.E.L.D., finds himself in need of a team to pull the world back from the brink of disaster. Spanning the globe, a daring recruitment effort begins!',\n",
       " 'popularity': 122.648,\n",
       " 'poster_path': '/RYMX2wcKCBAr24UyPD7xwmjaTn.jpg',\n",
       " 'production_companies': [{'id': 420,\n",
       "   'logo_path': '/hUzeosd33nzE5MCNsZxCGEKTXaQ.png',\n",
       "   'name': 'Marvel Studios',\n",
       "   'origin_country': 'US'}],\n",
       " 'production_countries': [{'iso_3166_1': 'US',\n",
       "   'name': 'United States of America'}],\n",
       " 'release_date': '2012-04-25',\n",
       " 'revenue': 1518815515,\n",
       " 'runtime': 143,\n",
       " 'spoken_languages': [{'english_name': 'English',\n",
       "   'iso_639_1': 'en',\n",
       "   'name': 'English'},\n",
       "  {'english_name': 'Hindi', 'iso_639_1': 'hi', 'name': 'हिन्दी'},\n",
       "  {'english_name': 'Russian', 'iso_639_1': 'ru', 'name': 'Pусский'}],\n",
       " 'status': 'Released',\n",
       " 'tagline': 'Some assembly required.',\n",
       " 'title': 'The Avengers',\n",
       " 'video': False,\n",
       " 'vote_average': 7.71,\n",
       " 'vote_count': 29277,\n",
       " 'certification': 'PG-13'}"
      ]
     },
     "execution_count": 8,
     "metadata": {},
     "output_type": "execute_result"
    }
   ],
   "source": [
    "avengers = get_movie_with_rating('tt0848228')\n",
    "avengers"
   ]
  },
  {
   "cell_type": "code",
   "execution_count": 9,
   "id": "21ccb8d9-ede2-4e34-839d-30da9493192e",
   "metadata": {},
   "outputs": [
    {
     "data": {
      "text/plain": [
       "{'adult': False,\n",
       " 'backdrop_path': '/qom1SZSENdmHFNZBXbtJAU0WTlC.jpg',\n",
       " 'belongs_to_collection': None,\n",
       " 'budget': 29000000,\n",
       " 'genres': [{'id': 10749, 'name': 'Romance'}, {'id': 18, 'name': 'Drama'}],\n",
       " 'homepage': 'http://www.newline.com/properties/notebookthe.html',\n",
       " 'id': 11036,\n",
       " 'imdb_id': 'tt0332280',\n",
       " 'original_language': 'en',\n",
       " 'original_title': 'The Notebook',\n",
       " 'overview': \"An epic love story centered around an older man who reads aloud to a woman with Alzheimer's. From a faded notebook, the old man's words bring to life the story about a couple who is separated by World War II, and is then passionately reunited, seven years later, after they have taken different paths.\",\n",
       " 'popularity': 58.251,\n",
       " 'poster_path': '/rNzQyW4f8B8cQeg7Dgj3n6eT5k9.jpg',\n",
       " 'production_companies': [{'id': 12,\n",
       "   'logo_path': '/mevhneWSqbjU22D1MXNd4H9x0r0.png',\n",
       "   'name': 'New Line Cinema',\n",
       "   'origin_country': 'US'},\n",
       "  {'id': 1565, 'logo_path': None, 'name': 'Avery Pix', 'origin_country': 'US'},\n",
       "  {'id': 2605,\n",
       "   'logo_path': None,\n",
       "   'name': 'Gran Via Productions',\n",
       "   'origin_country': 'US'}],\n",
       " 'production_countries': [{'iso_3166_1': 'US',\n",
       "   'name': 'United States of America'}],\n",
       " 'release_date': '2004-06-25',\n",
       " 'revenue': 115603229,\n",
       " 'runtime': 123,\n",
       " 'spoken_languages': [{'english_name': 'English',\n",
       "   'iso_639_1': 'en',\n",
       "   'name': 'English'}],\n",
       " 'status': 'Released',\n",
       " 'tagline': 'Behind every great love is a great story.',\n",
       " 'title': 'The Notebook',\n",
       " 'video': False,\n",
       " 'vote_average': 7.88,\n",
       " 'vote_count': 10689,\n",
       " 'certification': 'PG-13'}"
      ]
     },
     "execution_count": 9,
     "metadata": {},
     "output_type": "execute_result"
    }
   ],
   "source": [
    "notebook = get_movie_with_rating('tt0332280')\n",
    "notebook"
   ]
  },
  {
   "cell_type": "markdown",
   "id": "82df5003-724a-44ec-ba41-5ebfbacd7029",
   "metadata": {},
   "source": [
    "**Load in cleaned Title Basics data**"
   ]
  },
  {
   "cell_type": "code",
   "execution_count": 10,
   "id": "bcacbf07-f0cf-4e72-9421-66253edcd717",
   "metadata": {},
   "outputs": [],
   "source": [
    "# Load in the dataframe from Project 2 Part 1 as basics\n",
    "basics = pd.read_csv('Data/movie_basics.csv')"
   ]
  },
  {
   "cell_type": "markdown",
   "id": "691f5a0a-6941-413f-9651-23b9eb8f04be",
   "metadata": {},
   "source": [
    "**Define a variable with the year to extract from the API**"
   ]
  },
  {
   "cell_type": "code",
   "execution_count": 12,
   "id": "1abc96d9-8899-4a48-95d8-c5e05e796119",
   "metadata": {},
   "outputs": [],
   "source": [
    "# We have data available for years 2000-2020\n",
    "# This assignment is only for year 2010\n",
    "YEAR = 2010"
   ]
  },
  {
   "cell_type": "markdown",
   "id": "e318ba68-5426-46ed-be11-6ada086a56f3",
   "metadata": {},
   "source": [
    "**Define an errors list**\n",
    "- We want to be able to save and inspect error messages for any movie which causes one.\n",
    "- We need to create an empty list which will then be populated"
   ]
  },
  {
   "cell_type": "code",
   "execution_count": 13,
   "id": "e55b305a-f7ab-4187-80a9-7d306152cfbe",
   "metadata": {},
   "outputs": [],
   "source": [
    "errors = []"
   ]
  },
  {
   "cell_type": "markdown",
   "id": "ff8dd8a2-3699-42a6-a55a-0c47acb6a9d8",
   "metadata": {},
   "source": [
    "## Preparing DataFrame and files"
   ]
  },
  {
   "cell_type": "markdown",
   "id": "da7a750e-d4dc-434d-836f-a573bbc10b0f",
   "metadata": {},
   "source": [
    "**Select a JSON_FILE filename to save the results-in-progress**"
   ]
  },
  {
   "cell_type": "markdown",
   "id": "71a71d7b-a343-455c-a52c-6539c8a7718c",
   "metadata": {},
   "source": [
    "- First, define a file path including the year.\n",
    "- For our project, we will have multiple files, one for each year of movies. The code below will identify the folder in the FOLDER we just defined above and will name the file based on the current year."
   ]
  },
  {
   "cell_type": "code",
   "execution_count": 14,
   "id": "44bc303e-a59c-4597-912c-a6a5898dfbd9",
   "metadata": {},
   "outputs": [],
   "source": [
    "# Defining the JSON file to store results for a certain year\n",
    "JSON_FILE = f'{FOLDER}tmdb_api_results{YEAR}.json'"
   ]
  },
  {
   "cell_type": "markdown",
   "id": "41e650ac-f271-468b-9a88-1c0f001d72d5",
   "metadata": {},
   "source": [
    "**Determine if the JSON file exists:**\n",
    "- Check if the file exists or not.\n",
    "- If going through the lesson for the first time, it likely does not. However if we are revisiting this lesson, it will already be there. We don't want to do anything to it yet, just make sure it is a file we wish to add to."
   ]
  },
  {
   "cell_type": "code",
   "execution_count": 20,
   "id": "d9f8d7a4-6191-4750-8f8e-dbd6e8747f56",
   "metadata": {},
   "outputs": [],
   "source": [
    "# Check if file exists\n",
    "file_exists = os.path.isfile(JSON_FILE)"
   ]
  },
  {
   "cell_type": "markdown",
   "id": "d3c55f72-aeb0-4acf-9a59-6b9122b40115",
   "metadata": {},
   "source": [
    "- If file does NOT exist:\n",
    "    - Print a statement informing the user as such\n",
    "    - Create an empty json file using 'with open' with an empty key 'imdb_id' and value 0."
   ]
  },
  {
   "cell_type": "code",
   "execution_count": 21,
   "id": "af2a705d-3f10-46de-a9f7-b9f8e65c537e",
   "metadata": {},
   "outputs": [
    {
     "name": "stdout",
     "output_type": "stream",
     "text": [
      "The file Data/tmdb_api_results2010.json already exists.\n"
     ]
    }
   ],
   "source": [
    "# If file does not exist: create it\n",
    "if file_exists == False:\n",
    "    # Print message indicating so\n",
    "    print(f'Creating {JSON_FILE} for API results for {YEAR}.')\n",
    "    # Save empty dict with key 'imdb_id' and value 0\n",
    "    with open(JSON_FILE, 'w') as f:\n",
    "        json.dump([{'imdb_id':0}], f)\n",
    "\n",
    "elif file_exists == True:\n",
    "    print(f'The file {JSON_FILE} already exists.')"
   ]
  },
  {
   "cell_type": "markdown",
   "id": "f4bff37d-dcda-426b-8cd3-4294ac1d0423",
   "metadata": {},
   "source": [
    "- If file DOES exist, print a statement indicating so."
   ]
  },
  {
   "cell_type": "markdown",
   "id": "2112c5ce-471a-4ffb-b432-c4b19621e8aa",
   "metadata": {},
   "source": [
    "**Filter for the selected year and save the movie ids**\n",
    "- For this project we will be breaking up title_basics data by year. For this practice assignment we will only be working with 2010.\n",
    "- We create a new DataFrame by filtering title_basics for the selected YEAR (defined above). We will then save the list of movie_ids as a separate variable."
   ]
  },
  {
   "cell_type": "code",
   "execution_count": 22,
   "id": "e93274e5-b4ac-403b-8af1-e94d2fa48513",
   "metadata": {},
   "outputs": [],
   "source": [
    "# Saving new year as the current dataframe\n",
    "df = basics.loc[ basics['startYear'] == YEAR].copy()\n",
    "# Saving movie ids to separate variable\n",
    "movie_ids = df['tconst']"
   ]
  },
  {
   "cell_type": "markdown",
   "id": "50734e79-d5c2-4e63-a903-105afd6abb4c",
   "metadata": {
    "jp-MarkdownHeadingCollapsed": true
   },
   "source": [
    "## Check previous results and create the final list of movie_ids_to_get"
   ]
  },
  {
   "cell_type": "markdown",
   "id": "ebb7aa0f-3b68-4e0d-b42e-a676faf5e12e",
   "metadata": {},
   "source": [
    "Our API calls are going to have some built in safeguards when looping through multiple calls.\n",
    "- Load in any existing API results with pd.read_json\n",
    "- Check to see if any of the movie_ids to get are already in the json file\n",
    "- Filter out only the movies that are missing from the json file to use in the loop\n",
    "\n",
    "The code loads any existing info from the json file into a dataframe called 'previous_df'. This will start empty, but as we iterate through the loop it will continue to have more and more information."
   ]
  },
  {
   "cell_type": "code",
   "execution_count": 23,
   "id": "1eb718f0-d8e7-46e6-b7a8-40166d883199",
   "metadata": {},
   "outputs": [],
   "source": [
    "# Load existing data from json into a dataframe called 'previous_df'\n",
    "previous_df = pd.read_json(JSON_FILE)"
   ]
  },
  {
   "cell_type": "markdown",
   "id": "91c8912d-fd17-48e9-bd70-da276acaee1f",
   "metadata": {},
   "source": [
    "**Check for and filter out movie ids that already exist**\n",
    "- The next bit of code will prevent wasted API calls on data we already have.\n",
    "- Note that it is defining the ids being called in such a way that it excludes any ids that are already present in previous_df\n",
    "- This allows us to pick up where we left off if the API call gets interrupted."
   ]
  },
  {
   "cell_type": "code",
   "execution_count": 24,
   "id": "ce05347f-4e4f-436c-bb9c-ebf07d0641bd",
   "metadata": {},
   "outputs": [],
   "source": [
    "# Filter out any ids that are already in the JSON_FILE\n",
    "movie_ids_to_get = movie_ids[~movie_ids.isin(previous_df['imdb_id'])]"
   ]
  },
  {
   "cell_type": "markdown",
   "id": "db2f7d73-0c45-4923-8cee-d3789a4a9043",
   "metadata": {},
   "source": [
    "- We now have defined 'movie_ids_to_get' which includes the ids from our dataframe in the year we are seeking, and excludes any that we have already made calls for.\n",
    "- We will use this list for our loop of API calls."
   ]
  },
  {
   "cell_type": "markdown",
   "id": "48808c19-63b4-424e-9542-23f10051c183",
   "metadata": {},
   "source": [
    "## Start looop through movie id's"
   ]
  },
  {
   "cell_type": "markdown",
   "id": "72ce3a4f-47b4-4733-82b6-b935e24b1f25",
   "metadata": {},
   "source": [
    "- We have the filtered list of movie_ids_to_get for the current year, and now we can create an inner loop to iterate through the list.\n",
    "- For each ID we will:\n",
    "    - Retrieve the movie info from the TMDB API\n",
    "    - Append the movie_info dictioanry to our JSON_FILE\n",
    "    - Wait 20 ms to avoid overwhelming the API"
   ]
  },
  {
   "cell_type": "markdown",
   "id": "3efc2655-3f1f-4307-9fc2-ad02227f6e42",
   "metadata": {},
   "source": [
    "**Setting up a progress bar**"
   ]
  },
  {
   "cell_type": "code",
   "execution_count": 25,
   "id": "9108bed1-0524-4eab-a7f4-0fc0b66ad034",
   "metadata": {},
   "outputs": [
    {
     "data": {
      "text/plain": [
       "\"\\nfor movie_id in tqdm_notebook(movie_ids_to_get, f'Movies from {YEAR}'):\\n\""
      ]
     },
     "execution_count": 25,
     "metadata": {},
     "output_type": "execute_result"
    }
   ],
   "source": [
    "# Loop through the movie_ids_to_get with a tqdm progress bar\n",
    "\"\"\"\n",
    "for movie_id in tqdm_notebook(movie_ids_to_get, f'Movies from {YEAR}'):\n",
    "\"\"\""
   ]
  },
  {
   "cell_type": "markdown",
   "id": "bcf34f3c-06ab-4c26-9cc3-fe393932fff9",
   "metadata": {},
   "source": [
    "- Ultimately we will be creating a loop, but first let's explore the individual pieces of code"
   ]
  },
  {
   "cell_type": "markdown",
   "id": "2f12a8e4-7f39-4b12-95d0-6959523fe140",
   "metadata": {
    "jp-MarkdownHeadingCollapsed": true
   },
   "source": [
    "## Iterate through the list of Movie ID's and make calls"
   ]
  },
  {
   "cell_type": "markdown",
   "id": "1f6a55fa-7f77-4ea4-be36-91fd49337979",
   "metadata": {},
   "source": [
    "- The following code will make use of two custom functions we used in previous lessons, namely get_movie_with_rating and write_json\n",
    "    - Make sure both functions are defined above before trying to call them in the code below\n",
    "- Because some movies exist in IMDB's database but not within TMDB's, we will get an error if we attempt to retrieve a movie ID that TMDB does not have in it's database.\n",
    "    - To get around this error, we use a try/except block around our API extraction code."
   ]
  },
  {
   "cell_type": "code",
   "execution_count": 27,
   "id": "123b65f1-99ac-4eea-953b-b1cdd643efc1",
   "metadata": {},
   "outputs": [
    {
     "data": {
      "application/vnd.jupyter.widget-view+json": {
       "model_id": "bd171877b0114971b8bea2128568d9d6",
       "version_major": 2,
       "version_minor": 0
      },
      "text/plain": [
       "Movies from 2010:   0%|          | 0/3862 [00:00<?, ?it/s]"
      ]
     },
     "metadata": {},
     "output_type": "display_data"
    }
   ],
   "source": [
    "for movie_id in tqdm_notebook(movie_ids_to_get, f'Movies from {YEAR}'):\n",
    "        \n",
    "    # Get index and movie id from list\n",
    "    try:\n",
    "        # Retrieve the data for the movie_id\n",
    "        temp = get_movie_with_rating(movie_id)\n",
    "        # Append/extend results to existing file using a pre-made function\n",
    "        write_json(temp, JSON_FILE)\n",
    "        # Short 20 ms sleep to prevent overwhelming server with API calls\n",
    "        time.sleep(0.02)\n",
    "    except Exception as e:\n",
    "        errors.append([movie_id, e])"
   ]
  },
  {
   "cell_type": "markdown",
   "id": "5c0d718f-ad48-48cf-a651-1bde080829a8",
   "metadata": {},
   "source": [
    "## After the loop"
   ]
  },
  {
   "cell_type": "code",
   "execution_count": 28,
   "id": "96244f4d-4064-4627-a26d-a7178bb8bd8c",
   "metadata": {},
   "outputs": [
    {
     "name": "stdout",
     "output_type": "stream",
     "text": [
      "- Total errors: 1128\n"
     ]
    }
   ],
   "source": [
    "# Print a message showing the number of movie_id's that caused an error\n",
    "print(f'- Total errors: {len(errors)}')"
   ]
  },
  {
   "cell_type": "markdown",
   "id": "4ad6308b-6de4-4293-83df-604a17cf457d",
   "metadata": {},
   "source": [
    "**Save the year's results as csv.gz file**"
   ]
  },
  {
   "cell_type": "markdown",
   "id": "0bdf4d6e-b24f-46b3-8538-348661df5fc1",
   "metadata": {},
   "source": [
    "- Once all of the API calls for the current year are made, open the .json file with pd.read_json and convert each json file to a compressed csv to save space. This is done after the loop has finished running."
   ]
  },
  {
   "cell_type": "code",
   "execution_count": 29,
   "id": "a7469177-9bc2-472f-a6fa-c463c0f47bfe",
   "metadata": {},
   "outputs": [],
   "source": [
    "final_year_df = pd.read_json(JSON_FILE)\n",
    "final_year_df.to_csv(f'{FOLDER}final_tmdb_data_{YEAR}.csv.gz', compression='gzip',\n",
    "                     index=False)"
   ]
  },
  {
   "cell_type": "markdown",
   "id": "c5d57309-8fd7-4100-8f1c-ce4e6e5c6c63",
   "metadata": {},
   "source": [
    "# Summary"
   ]
  },
  {
   "cell_type": "markdown",
   "id": "01bd403b-bd01-4619-b1f9-baf9e230f29f",
   "metadata": {},
   "source": [
    "- This lesson exemplifies the importance of planning complex coding tasks so the objectives are clear and can be explained in plain language *before* starting to code.\n",
    "- While this lesson demonstrates some code that may be useful in the next phase of our project, we must still make sure to understand the code at each step so we can independently put together a final product on our own."
   ]
  }
 ],
 "metadata": {
  "kernelspec": {
   "display_name": "Python 3 (ipykernel)",
   "language": "python",
   "name": "python3"
  },
  "language_info": {
   "codemirror_mode": {
    "name": "ipython",
    "version": 3
   },
   "file_extension": ".py",
   "mimetype": "text/x-python",
   "name": "python",
   "nbconvert_exporter": "python",
   "pygments_lexer": "ipython3",
   "version": "3.10.10"
  },
  "widgets": {
   "application/vnd.jupyter.widget-state+json": {
    "state": {
     "0aea62a86cd74198908ffd73e6e2d658": {
      "model_module": "@jupyter-widgets/base",
      "model_module_version": "2.0.0",
      "model_name": "LayoutModel",
      "state": {}
     },
     "16fad91a13e443a9a3f177812ac340cf": {
      "model_module": "@jupyter-widgets/base",
      "model_module_version": "2.0.0",
      "model_name": "LayoutModel",
      "state": {}
     },
     "435e55241f184d19bb69e832bf7dd2c2": {
      "model_module": "@jupyter-widgets/controls",
      "model_module_version": "2.0.0",
      "model_name": "FloatProgressModel",
      "state": {
       "bar_style": "success",
       "layout": "IPY_MODEL_16fad91a13e443a9a3f177812ac340cf",
       "max": 3862,
       "style": "IPY_MODEL_8d7aa78ba074470eb3b257b5ef7c1751",
       "value": 3862
      }
     },
     "6f5533f1b6e9425da9e4ba506d34eaf1": {
      "model_module": "@jupyter-widgets/base",
      "model_module_version": "2.0.0",
      "model_name": "LayoutModel",
      "state": {}
     },
     "7223e3ffa388471a9ef1230e3d2d9370": {
      "model_module": "@jupyter-widgets/controls",
      "model_module_version": "2.0.0",
      "model_name": "HTMLStyleModel",
      "state": {
       "description_width": "",
       "font_size": null,
       "text_color": null
      }
     },
     "8d7aa78ba074470eb3b257b5ef7c1751": {
      "model_module": "@jupyter-widgets/controls",
      "model_module_version": "2.0.0",
      "model_name": "ProgressStyleModel",
      "state": {
       "description_width": ""
      }
     },
     "aba21af65cf949b2a76d14c15fe6696b": {
      "model_module": "@jupyter-widgets/controls",
      "model_module_version": "2.0.0",
      "model_name": "HTMLModel",
      "state": {
       "layout": "IPY_MODEL_6f5533f1b6e9425da9e4ba506d34eaf1",
       "style": "IPY_MODEL_ea08c83a2dea4726a2a1a08a0f2e335c",
       "value": "Movies from 2010: 100%"
      }
     },
     "bd171877b0114971b8bea2128568d9d6": {
      "model_module": "@jupyter-widgets/controls",
      "model_module_version": "2.0.0",
      "model_name": "HBoxModel",
      "state": {
       "children": [
        "IPY_MODEL_aba21af65cf949b2a76d14c15fe6696b",
        "IPY_MODEL_435e55241f184d19bb69e832bf7dd2c2",
        "IPY_MODEL_d17f3ff2316543058d51fdb375e16e17"
       ],
       "layout": "IPY_MODEL_e7b548c5587c4639af0c353067213579"
      }
     },
     "d17f3ff2316543058d51fdb375e16e17": {
      "model_module": "@jupyter-widgets/controls",
      "model_module_version": "2.0.0",
      "model_name": "HTMLModel",
      "state": {
       "layout": "IPY_MODEL_0aea62a86cd74198908ffd73e6e2d658",
       "style": "IPY_MODEL_7223e3ffa388471a9ef1230e3d2d9370",
       "value": " 3862/3862 [30:11&lt;00:00,  2.08it/s]"
      }
     },
     "e7b548c5587c4639af0c353067213579": {
      "model_module": "@jupyter-widgets/base",
      "model_module_version": "2.0.0",
      "model_name": "LayoutModel",
      "state": {}
     },
     "ea08c83a2dea4726a2a1a08a0f2e335c": {
      "model_module": "@jupyter-widgets/controls",
      "model_module_version": "2.0.0",
      "model_name": "HTMLStyleModel",
      "state": {
       "description_width": "",
       "font_size": null,
       "text_color": null
      }
     }
    },
    "version_major": 2,
    "version_minor": 0
   }
  }
 },
 "nbformat": 4,
 "nbformat_minor": 5
}
